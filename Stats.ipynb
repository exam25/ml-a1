{
 "cells": [
  {
   "cell_type": "code",
   "execution_count": null,
   "id": "faf4e1bc-d178-4eec-ae36-8993a160cce6",
   "metadata": {},
   "outputs": [],
   "source": [
    "lst = [115.3, 123.5, 234.5, 197.3, 210.1, 155.6, 123.2, 151.1, 151.1]\n",
    "\n",
    "import numpy as np\n",
    "import pandas as pd\n",
    "import statistics as st\n",
    "\n",
    "print(\"mean - \", np.mean(lst))\n",
    "print(\"median - \", np.median(lst))\n",
    "\n",
    "try:\n",
    "    modes = st.multimode(lst)\n",
    "    print(\"mode(s) - \", modes)\n",
    "except st.StatisticsError:\n",
    "    print(\"No unique mode\")\n",
    "\n",
    "print(\"standard deviation - \", np.std(lst))\n",
    "print(\"variance - \", st.variance(lst))\n",
    "\n",
    "# explicit function to normalize array\n",
    "def normalize(arr, t_min, t_max):\n",
    "    norm_arr = []\n",
    "    diff = t_max - t_min\n",
    "    diff_arr = max(arr) - min(arr)\n",
    "    for i in arr:\n",
    "        temp = (((i - min(arr)) * diff) / diff_arr) + t_min\n",
    "        norm_arr.append(temp)\n",
    "    return norm_arr\n",
    "\n",
    "range_to_normalize = (0, 1)\n",
    "normalized_array_1d = normalize(lst, range_to_normalize[0], range_to_normalize[1])\n",
    "\n",
    "# display original and normalized array\n",
    "print(\"Original Array = \", lst)\n",
    "print(\"Normalized Array = \", normalized_array_1d)\n",
    "\n",
    "mean = np.mean(lst)\n",
    "stan_dev = np.std(lst)\n",
    "standardisation = [(x - mean) / stan_dev for x in lst]\n",
    "print(\"Standardization = \", standardisation)"
   ]
  }
 ],
 "metadata": {
  "kernelspec": {
   "display_name": "Python 3 (ipykernel)",
   "language": "python",
   "name": "python3"
  },
  "language_info": {
   "codemirror_mode": {
    "name": "ipython",
    "version": 3
   },
   "file_extension": ".py",
   "mimetype": "text/x-python",
   "name": "python",
   "nbconvert_exporter": "python",
   "pygments_lexer": "ipython3",
   "version": "3.11.4"
  }
 },
 "nbformat": 4,
 "nbformat_minor": 5
}
